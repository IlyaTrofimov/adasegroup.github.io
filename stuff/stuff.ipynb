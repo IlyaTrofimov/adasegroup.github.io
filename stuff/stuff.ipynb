{
 "cells": [
  {
   "cell_type": "code",
   "execution_count": 1,
   "metadata": {
    "collapsed": true
   },
   "outputs": [],
   "source": [
    "import os"
   ]
  },
  {
   "cell_type": "code",
   "execution_count": 3,
   "metadata": {
    "collapsed": true
   },
   "outputs": [],
   "source": [
    "import numpy as np\n",
    "import pandas as pd"
   ]
  },
  {
   "cell_type": "code",
   "execution_count": 23,
   "metadata": {
    "collapsed": true
   },
   "outputs": [],
   "source": [
    "stuff = \\\n",
    "\"\"\"Vladimir Ignatiev [ref=https://adasegroup.github.io/team/VladimirIgnatiev/] – junior research scientist (from November 2016)\n",
    "Ivan Nazarov [ref=https://adasegroup.github.io/team/IvanNazarov/] – PhD student (from September 2016)\n",
    "Dmitry Smolyakov [ref=https://adasegroup.github.io/team/DmitrySmolyakov/] – PhD student (from September 2016)\n",
    "Yermek Kapushev [ref=https://adasegroup.github.io/team/YermekKapushev/] – PhD student (from September 2016)\n",
    "Sergey Ivanov [ref=https://adasegroup.github.io/team/SergeyIvanov/] – PhD student (from September 2016)\n",
    "Nikita Klyuchnikov [ref=https://adasegroup.github.io/team/NikitaKlyuchnikov/] – PhD student (from September 2016)\n",
    "Alexander Notchenko [ref=https://adasegroup.github.io/team/AlexanderNotchenko/] – PhD student (from September 2016)\n",
    "Albert Matveyev [ref=https://adasegroup.github.io/team/AlbertMatveyev/] – Ms student (from September 2016)\n",
    "Vladislav Ishimtsev [ref=https://adasegroup.github.io/team/VladislavIshimtsev/] – Ms student (from September 2016)\n",
    "Denis Volkhonsky [ref=https://adasegroup.github.io/team/DenisVolkhonsky/] – Ms student (from September 2016)\n",
    "Evgeny Egorov [ref=https://adasegroup.github.io/teamEvgenyEgorov/] – Ms student (from September 2016)\n",
    "Ruslan Kostoev [ref=https://adasegroup.github.io/team/RuslanKostoev/] – Ms student (from September 2016)\n",
    "Anton Rykachevsky [ref=https://adasegroup.github.io/team/AntonRykachevsky/] – Ms student (from September 2016)\n",
    "Alexey Ryabykh [ref=https://adasegroup.github.io/team/AlexeyRyabykh/] – Ms student (from September 2016)\n",
    "Nikita Gryaznov [ref=https://adasegroup.github.io/team/NikitaGryaznov/] – Ms student (from September 2016)\n",
    "Ivan Makhotin [ref=https://adasegroup.github.io/team/IvanMakhotin/] – Ms student (from September 2016), MIPT\n",
    "Anton Marin [ref=https://adasegroup.github.io/team/AntonMarin/] – Ms student (from September 2016)\n",
    "German Novikov [ref=https://adasegroup.github.io/team/GermanNovikov/] – Ms student (from September 2016)\n",
    "Anton Pankratov [ref=https://adasegroup.github.io/team/AntonPankrato /] – Ms student (from September 2016)\n",
    "Oleg Khomenko [ref=https://adasegroup.github.io/team/OlegKhomenko/] – Ms student (from September 2016)\n",
    "Oleg Sudakov [ref=https://adasegroup.github.io/team/OlegSudakov/] – Ms student (from September 2016)\n",
    "Sergey Pavlov [ref=https://adasegroup.github.io/team/SergeyPavlov/] – Ms student, MIPT (SU)\n",
    "Alexander Korotin [ref=https://adasegroup.github.io/team/AlexanderKorotin/] – Ms student, MIPT (SU)\"\"\""
   ]
  },
  {
   "cell_type": "code",
   "execution_count": 75,
   "metadata": {
    "collapsed": true
   },
   "outputs": [],
   "source": [
    "with_sites = \"\"\"Sergey Pavlov [ref=https://adasegroup.github.io/team/SergeyPavlov/] – Ms student, MIPT (SU)\n",
    "Alexander Korotin [ref=https://adasegroup.github.io/team/AlexanderKorotin/] – Ms student, MIPT (SU)\n",
    "Alexander Bernstein [ref= http://faculty.skoltech.ru/people/alexanderbernstein] – Principal Research Scientis, CDISE, Skoltech\n",
    "Alexey Zaytsev [ref= http://faculty.skoltech.ru/people/alexeizaitsev] – Junior Research Scientist, CDISE, Skoltech\n",
    "Maxim Panov [ref= http://faculty.skoltech.ru/people/maximpanov] – Junior Research Scientist, CDISE, Skoltech\n",
    "Vladimir Spokoiny [ref= http://www.wias-berlin.de/people/spokoiny/] – Professor at the Departments of Mathematics and Economics of the Humboldt University of Berlin\n",
    "Albert Shiryaev [ref= https://cees-www.mit.edu/index.php/team-2/item/20-albert-n-shiryaev.html] – Professor, Head Theory of Probability, Chair, Department of Mechanics and Mathematics, M.V. Lomonosov Moscow State University\n",
    "Bruno Sudret [ref= http://www.sudret.ibk.ethz.ch/people/prof-dr-bruno-sudret.html] – Prof. Dr., Department of Civil, Environmental and Geomatic Engineering\n",
    "Dmitry Yarotsky [ref= http://faculty.skoltech.ru/people/dmitryyarotskiy] – Leading Research Scientist, CDISE, Skoltech\n",
    "Pavel Prikhodko [ref= …] – …\n",
    "Vladimir Vovk [ref= http://www.vovk.net/] – professor, Royal Holloway, University of London\n",
    "Alex Gammerman [ref= http://www.gammerman.com/] – doctor, Royal Holloway, University of London\n",
    "Ilia Nouretdinov [ref= https://pure.royalholloway.ac.uk/portal/en/persons/ilia-nouretdinov(e4136840-3249-47a8-81b6-9f89fdabce36).html] – professor, Royal Holloway, University of London\n",
    "Denis Belomestny [ref= https://www.uni-due.de/~hm0124/index.php] – Prof. Dr., Duisburg-Essen University\"\"\""
   ]
  },
  {
   "cell_type": "code",
   "execution_count": 76,
   "metadata": {
    "collapsed": false
   },
   "outputs": [],
   "source": [
    "df_stuff = pd.DataFrame(with_sites.split('\\n'))"
   ]
  },
  {
   "cell_type": "code",
   "execution_count": null,
   "metadata": {
    "collapsed": true
   },
   "outputs": [],
   "source": [
    "stuff_template = \\\n",
    "\"\"\"---\n",
    "layout: page\n",
    "title: Ph.D. Students\n",
    "permalink: /stuff/phd/\n",
    "---\n",
    "\n",
    "List of Ph.D. students\n",
    "\"\"\""
   ]
  },
  {
   "cell_type": "code",
   "execution_count": 39,
   "metadata": {
    "collapsed": false
   },
   "outputs": [],
   "source": [
    "for (name_, surname_) in df_stuff[0].str.split(' ').apply(lambda x: (x[0], x[1])):\n",
    "    os.mknod(name_ + surname_ + '.md')\n",
    "    with open(name_ + surname_ + '.md', mode='w+') as f:\n",
    "        print('---', file=f)\n",
    "        print('layout: page', file=f)\n",
    "        print('title: ' + name_ + ' ' + surname_, file=f)\n",
    "        print('permalink: /stuff/' + name_ + surname_ + '/', file=f)\n",
    "        print('---', file=f)\n",
    "        print(file=f)\n",
    "        print(name_ + ' ' + surname_, file=f)"
   ]
  },
  {
   "cell_type": "markdown",
   "metadata": {},
   "source": [
    "# URL TEMPLATE"
   ]
  },
  {
   "cell_type": "code",
   "execution_count": 41,
   "metadata": {
    "collapsed": false
   },
   "outputs": [
    {
     "data": {
      "text/plain": [
       "'[German Novikov](https://www.google.com)'"
      ]
     },
     "execution_count": 41,
     "metadata": {},
     "output_type": "execute_result"
    }
   ],
   "source": [
    "\"[German Novikov](https://www.google.com)\""
   ]
  },
  {
   "cell_type": "code",
   "execution_count": 81,
   "metadata": {
    "collapsed": false
   },
   "outputs": [],
   "source": [
    "with open(\"../stuff.md\", mode='a') as f:\n",
    "    for (name_, surname_, dol_, jnost_) in df_stuff[0].str.split(' ').apply(lambda x: (x[0], x[1], x[4], x[5])):\n",
    "        f.write('[' + name_ + ' ' + surname_  + \"](/stuff/\" + name_ + surname_ + ') - '\n",
    "                        + dol_ + ' ' + jnost_ + '\\n\\n')"
   ]
  },
  {
   "cell_type": "code",
   "execution_count": 80,
   "metadata": {
    "collapsed": false
   },
   "outputs": [
    {
     "data": {
      "text/plain": [
       "0           (Sergey, Pavlov, Ms, student,)\n",
       "1       (Alexander, Korotin, Ms, student,)\n",
       "2     (Alexander, Bernstein, –, Principal)\n",
       "3             (Alexey, Zaytsev, –, Junior)\n",
       "4                (Maxim, Panov, –, Junior)\n",
       "5       (Vladimir, Spokoiny, –, Professor)\n",
       "6        (Albert, Shiryaev, –, Professor,)\n",
       "7                (Bruno, Sudret, –, Prof.)\n",
       "8           (Dmitry, Yarotsky, –, Leading)\n",
       "9                 (Pavel, Prikhodko, –, …)\n",
       "10         (Vladimir, Vovk, –, professor,)\n",
       "11           (Alex, Gammerman, –, doctor,)\n",
       "12      (Ilia, Nouretdinov, –, professor,)\n",
       "13           (Denis, Belomestny, –, Prof.)\n",
       "Name: 0, dtype: object"
      ]
     },
     "execution_count": 80,
     "metadata": {},
     "output_type": "execute_result"
    }
   ],
   "source": [
    "df_stuff[0].str.split(' ').apply(lambda x: (x[0], x[1], x[4], x[5]))"
   ]
  },
  {
   "cell_type": "code",
   "execution_count": null,
   "metadata": {
    "collapsed": true
   },
   "outputs": [],
   "source": []
  }
 ],
 "metadata": {
  "kernelspec": {
   "display_name": "Python 3",
   "language": "python",
   "name": "python3"
  },
  "language_info": {
   "codemirror_mode": {
    "name": "ipython",
    "version": 3
   },
   "file_extension": ".py",
   "mimetype": "text/x-python",
   "name": "python",
   "nbconvert_exporter": "python",
   "pygments_lexer": "ipython3",
   "version": "3.6.0"
  }
 },
 "nbformat": 4,
 "nbformat_minor": 2
}
