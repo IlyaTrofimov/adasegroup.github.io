{
 "cells": [
  {
   "cell_type": "code",
   "execution_count": 1,
   "metadata": {
    "collapsed": true
   },
   "outputs": [],
   "source": [
    "import os"
   ]
  },
  {
   "cell_type": "code",
   "execution_count": 3,
   "metadata": {
    "collapsed": true
   },
   "outputs": [],
   "source": [
    "import numpy as np\n",
    "import pandas as pd"
   ]
  },
  {
   "cell_type": "code",
   "execution_count": 23,
   "metadata": {
    "collapsed": true
   },
   "outputs": [],
   "source": [
    "stuff = \\\n",
    "\"\"\"Vladimir Ignatiev [ref=https://adasegroup.github.io/team/VladimirIgnatiev/] – junior research scientist (from November 2016)\n",
    "Ivan Nazarov [ref=https://adasegroup.github.io/team/IvanNazarov/] – PhD student (from September 2016)\n",
    "Dmitry Smolyakov [ref=https://adasegroup.github.io/team/DmitrySmolyakov/] – PhD student (from September 2016)\n",
    "Yermek Kapushev [ref=https://adasegroup.github.io/team/YermekKapushev/] – PhD student (from September 2016)\n",
    "Sergey Ivanov [ref=https://adasegroup.github.io/team/SergeyIvanov/] – PhD student (from September 2016)\n",
    "Nikita Klyuchnikov [ref=https://adasegroup.github.io/team/NikitaKlyuchnikov/] – PhD student (from September 2016)\n",
    "Alexander Notchenko [ref=https://adasegroup.github.io/team/AlexanderNotchenko/] – PhD student (from September 2016)\n",
    "Albert Matveyev [ref=https://adasegroup.github.io/team/AlbertMatveyev/] – Ms student (from September 2016)\n",
    "Vladislav Ishimtsev [ref=https://adasegroup.github.io/team/VladislavIshimtsev/] – Ms student (from September 2016)\n",
    "Denis Volkhonsky [ref=https://adasegroup.github.io/team/DenisVolkhonsky/] – Ms student (from September 2016)\n",
    "Evgeny Egorov [ref=https://adasegroup.github.io/teamEvgenyEgorov/] – Ms student (from September 2016)\n",
    "Ruslan Kostoev [ref=https://adasegroup.github.io/team/RuslanKostoev/] – Ms student (from September 2016)\n",
    "Anton Rykachevsky [ref=https://adasegroup.github.io/team/AntonRykachevsky/] – Ms student (from September 2016)\n",
    "Alexey Ryabykh [ref=https://adasegroup.github.io/team/AlexeyRyabykh/] – Ms student (from September 2016)\n",
    "Nikita Gryaznov [ref=https://adasegroup.github.io/team/NikitaGryaznov/] – Ms student (from September 2016)\n",
    "Ivan Makhotin [ref=https://adasegroup.github.io/team/IvanMakhotin/] – Ms student (from September 2016), MIPT\n",
    "Anton Marin [ref=https://adasegroup.github.io/team/AntonMarin/] – Ms student (from September 2016)\n",
    "German Novikov [ref=https://adasegroup.github.io/team/GermanNovikov/] – Ms student (from September 2016)\n",
    "Anton Pankratov [ref=https://adasegroup.github.io/team/AntonPankrato /] – Ms student (from September 2016)\n",
    "Oleg Khomenko [ref=https://adasegroup.github.io/team/OlegKhomenko/] – Ms student (from September 2016)\n",
    "Oleg Sudakov [ref=https://adasegroup.github.io/team/OlegSudakov/] – Ms student (from September 2016)\n",
    "Sergey Pavlov [ref=https://adasegroup.github.io/team/SergeyPavlov/] – Ms student, MIPT (SU)\n",
    "Alexander Korotin [ref=https://adasegroup.github.io/team/AlexanderKorotin/] – Ms student, MIPT (SU)\"\"\""
   ]
  },
  {
   "cell_type": "code",
   "execution_count": 24,
   "metadata": {
    "collapsed": false
   },
   "outputs": [],
   "source": [
    "df_stuff = pd.DataFrame(stuff.split('\\n'))"
   ]
  },
  {
   "cell_type": "code",
   "execution_count": null,
   "metadata": {
    "collapsed": true
   },
   "outputs": [],
   "source": [
    "stuff_template = \\\n",
    "\"\"\"---\n",
    "layout: page\n",
    "title: Ph.D. Students\n",
    "permalink: /stuff/phd/\n",
    "---\n",
    "\n",
    "List of Ph.D. students\n",
    "\"\"\""
   ]
  },
  {
   "cell_type": "code",
   "execution_count": 39,
   "metadata": {
    "collapsed": false
   },
   "outputs": [],
   "source": [
    "for (name_, surname_) in df_stuff[0].str.split(' ').apply(lambda x: (x[0], x[1])):\n",
    "    os.mknod(name_ + surname_ + '.md')\n",
    "    with open(name_ + surname_ + '.md', mode='w+') as f:\n",
    "        print('---', file=f)\n",
    "        print('layout: page', file=f)\n",
    "        print('title: ' + name_ + ' ' + surname_, file=f)\n",
    "        print('permalink: /stuff/' + name_ + surname_ + '/', file=f)\n",
    "        print('---', file=f)\n",
    "        print(file=f)\n",
    "        print(name_ + ' ' + surname_, file=f)"
   ]
  },
  {
   "cell_type": "markdown",
   "metadata": {},
   "source": [
    "# URL TEMPLATE"
   ]
  },
  {
   "cell_type": "code",
   "execution_count": 41,
   "metadata": {
    "collapsed": false
   },
   "outputs": [
    {
     "data": {
      "text/plain": [
       "'[German Novikov](https://www.google.com)'"
      ]
     },
     "execution_count": 41,
     "metadata": {},
     "output_type": "execute_result"
    }
   ],
   "source": [
    "\"[German Novikov](https://www.google.com)\""
   ]
  },
  {
   "cell_type": "code",
   "execution_count": 69,
   "metadata": {
    "collapsed": false
   },
   "outputs": [],
   "source": [
    "with open(\"../stuff.md\", mode='a') as f:\n",
    "    for (name_, surname_, dol_, jnost_) in df_stuff[0].str.split(' ').apply(lambda x: (x[0], x[1], x[4], x[5])):\n",
    "        f.write('[' + name_ + ' ' + surname_  + \"](/stuff/\" + name_ + surname_ + ') - '\n",
    "                        + dol_ + ' ' + jnost_ +'\\n')"
   ]
  },
  {
   "cell_type": "code",
   "execution_count": 52,
   "metadata": {
    "collapsed": false
   },
   "outputs": [
    {
     "ename": "SyntaxError",
     "evalue": "invalid syntax (<ipython-input-52-1f081a2259cb>, line 1)",
     "output_type": "error",
     "traceback": [
      "\u001b[0;36m  File \u001b[0;32m\"<ipython-input-52-1f081a2259cb>\"\u001b[0;36m, line \u001b[0;32m1\u001b[0m\n\u001b[0;31m    '[' + name_ + ' ' + surname_ \"](/stuff/\" + name_ + surname_ + ')'\u001b[0m\n\u001b[0m                                           ^\u001b[0m\n\u001b[0;31mSyntaxError\u001b[0m\u001b[0;31m:\u001b[0m invalid syntax\n"
     ]
    }
   ],
   "source": [
    "\"](/stuff/\" + name_ + surname_ + ')'"
   ]
  },
  {
   "cell_type": "code",
   "execution_count": 65,
   "metadata": {
    "collapsed": false
   },
   "outputs": [
    {
     "data": {
      "text/plain": [
       "0     (Vladimir, Ignatiev, junior, research)\n",
       "1              (Ivan, Nazarov, PhD, student)\n",
       "2          (Dmitry, Smolyakov, PhD, student)\n",
       "3           (Yermek, Kapushev, PhD, student)\n",
       "4             (Sergey, Ivanov, PhD, student)\n",
       "5        (Nikita, Klyuchnikov, PhD, student)\n",
       "6       (Alexander, Notchenko, PhD, student)\n",
       "7            (Albert, Matveyev, Ms, student)\n",
       "8        (Vladislav, Ishimtsev, Ms, student)\n",
       "9           (Denis, Volkhonsky, Ms, student)\n",
       "10             (Evgeny, Egorov, Ms, student)\n",
       "11            (Ruslan, Kostoev, Ms, student)\n",
       "12         (Anton, Rykachevsky, Ms, student)\n",
       "13            (Alexey, Ryabykh, Ms, student)\n",
       "14           (Nikita, Gryaznov, Ms, student)\n",
       "15             (Ivan, Makhotin, Ms, student)\n",
       "16               (Anton, Marin, Ms, student)\n",
       "17            (German, Novikov, Ms, student)\n",
       "18                 (Anton, Pankratov, –, Ms)\n",
       "19             (Oleg, Khomenko, Ms, student)\n",
       "20              (Oleg, Sudakov, Ms, student)\n",
       "21            (Sergey, Pavlov, Ms, student,)\n",
       "22        (Alexander, Korotin, Ms, student,)\n",
       "Name: 0, dtype: object"
      ]
     },
     "execution_count": 65,
     "metadata": {},
     "output_type": "execute_result"
    }
   ],
   "source": []
  },
  {
   "cell_type": "code",
   "execution_count": null,
   "metadata": {
    "collapsed": true
   },
   "outputs": [],
   "source": []
  }
 ],
 "metadata": {
  "kernelspec": {
   "display_name": "Python 3",
   "language": "python",
   "name": "python3"
  },
  "language_info": {
   "codemirror_mode": {
    "name": "ipython",
    "version": 3
   },
   "file_extension": ".py",
   "mimetype": "text/x-python",
   "name": "python",
   "nbconvert_exporter": "python",
   "pygments_lexer": "ipython3",
   "version": "3.6.0"
  }
 },
 "nbformat": 4,
 "nbformat_minor": 2
}
